{
  "cells": [
    {
      "cell_type": "markdown",
      "metadata": {
        "id": "view-in-github",
        "colab_type": "text"
      },
      "source": [
        "<a href=\"https://colab.research.google.com/github/AnandInguva/beam/blob/inference-notebook/examples/notebooks/documentation/transforms/python/elementwise/run_inference.ipynb\" target=\"_parent\"><img src=\"https://colab.research.google.com/assets/colab-badge.svg\" alt=\"Open In Colab\"/></a>"
      ]
    },
    {
      "cell_type": "code",
      "source": [
        "#@title Licensed under the Apache License, Version 2.0 (the \"License\")\n",
        "# Licensed to the Apache Software Foundation (ASF) under one\n",
        "# or more contributor license agreements. See the NOTICE file\n",
        "# distributed with this work for additional information\n",
        "# regarding copyright ownership. The ASF licenses this file\n",
        "# to you under the Apache License, Version 2.0 (the\n",
        "# \"License\"); you may not use this file except in compliance\n",
        "# with the License. You may obtain a copy of the License at\n",
        "#\n",
        "#   http://www.apache.org/licenses/LICENSE-2.0\n",
        "#\n",
        "# Unless required by applicable law or agreed to in writing,\n",
        "# software distributed under the License is distributed on an\n",
        "# \"AS IS\" BASIS, WITHOUT WARRANTIES OR CONDITIONS OF ANY\n",
        "# KIND, either express or implied. See the License for the\n",
        "# specific language governing permissions and limitations\n",
        "# under the License."
      ],
      "metadata": {
        "id": "gmisO0zHLZM3"
      },
      "id": "gmisO0zHLZM3",
      "execution_count": null,
      "outputs": []
    },
    {
      "cell_type": "markdown",
      "id": "b6f8f3af-744e-4eaa-8a30-6d03e8e4d21e",
      "metadata": {
        "id": "b6f8f3af-744e-4eaa-8a30-6d03e8e4d21e"
      },
      "source": [
        "# RunInference\n",
        "\n",
        "\n",
        "In this notebook, we walk through the use of the RunInference transform.\n",
        "The transform and its accompanying [ModelHandler](https://beam.apache.org/releases/pydoc/current/apache_beam.ml.inference.base.html#apache_beam.ml.inference.base.ModelHandler) classes handle the following tasks:\n",
        "\n",
        "\n",
        "*   Optimizing loading models from popular frameworks.\n",
        "*   Batching examples in a scalable fashion.\n",
        "\n",
        "\n",
        "This notebook illustrates:\n",
        "*   Use Pytorch RunInference transform on un-keyed data.\n",
        "*   Use Pytorch RunInference transform on keyed data.\n",
        "*   Use Sklearn RunInference transform on un-keyed data.\n",
        "*   Use RunInference transform on keyed data.\n",
        "\n",
        "The linear regression model used in this notebook is trained on data that correspondes to the 5 times table; that is,`y = 5x`."
      ]
    },
    {
      "cell_type": "markdown",
      "id": "299af9bb-b2fc-405c-96e7-ee0a6ae24bdd",
      "metadata": {
        "id": "299af9bb-b2fc-405c-96e7-ee0a6ae24bdd"
      },
      "source": [
        "### Dependencies\n",
        "\n",
        "The RunInference library is available in Apache Beam version <b>2.40</b> or later.\n",
        "\n",
        "Pytorch module is needed to use Pytorch RunInference API. use `pip` to install Pytorch."
      ]
    },
    {
      "cell_type": "code",
      "source": [
        "%pip install apache_beam>=2.40.0 torch --quiet"
      ],
      "metadata": {
        "id": "loxD-rOVchRn"
      },
      "id": "loxD-rOVchRn",
      "execution_count": null,
      "outputs": []
    },
    {
      "cell_type": "code",
      "execution_count": null,
      "id": "9a92e3a7-beb6-46ae-a5b0-53c15487de38",
      "metadata": {
        "id": "9a92e3a7-beb6-46ae-a5b0-53c15487de38"
      },
      "outputs": [],
      "source": [
        "import csv\n",
        "import os\n",
        "import pickle\n",
        "import torch\n",
        "from typing import Tuple\n",
        "\n",
        "import apache_beam as beam\n",
        "import numpy\n",
        "import numpy as np\n",
        "from apache_beam.ml.inference.base import KeyedModelHandler\n",
        "from apache_beam.ml.inference.base import PredictionResult\n",
        "from apache_beam.ml.inference.base import RunInference\n",
        "from apache_beam.ml.inference.pytorch_inference import PytorchModelHandlerTensor\n",
        "from apache_beam.ml.inference.pytorch_inference import PytorchModelHandlerKeyedTensor\n",
        "from apache_beam.ml.inference.sklearn_inference import ModelFileType\n",
        "from apache_beam.ml.inference.sklearn_inference import SklearnModelHandlerNumpy\n",
        "from apache_beam.options.pipeline_options import PipelineOptions\n",
        "from sklearn import linear_model"
      ]
    },
    {
      "cell_type": "markdown",
      "id": "b2b7cedc-79f5-4599-8178-e5da35dba032",
      "metadata": {
        "tags": [],
        "id": "b2b7cedc-79f5-4599-8178-e5da35dba032"
      },
      "source": [
        "## Create data and Pytorch models for RunInference transform"
      ]
    },
    {
      "cell_type": "code",
      "execution_count": null,
      "id": "9302917f-6200-4af4-a410-4bd6f2a070b8",
      "metadata": {
        "id": "9302917f-6200-4af4-a410-4bd6f2a070b8"
      },
      "outputs": [],
      "source": [
        "save_model_dir_multiply_five = 'five_times_table_torch.pt'\n",
        "\n",
        "# Linear regression model in Pytorch.\n",
        "class LinearRegression(torch.nn.Module):\n",
        "    def __init__(self, input_dim=1, output_dim=1):\n",
        "        super().__init__()\n",
        "        self.linear = torch.nn.Linear(input_dim, output_dim)  \n",
        "    def forward(self, x):\n",
        "        out = self.linear(x)\n",
        "        return out\n",
        "\n",
        "# train data for 5 times model\n",
        "x = numpy.arange(0, 100, dtype=numpy.float32).reshape(-1, 1)\n",
        "y = (x * 5).reshape(-1, 1)\n",
        "\n",
        "five_times_model = LinearRegression()\n",
        "optimizer = torch.optim.Adam(five_times_model.parameters())\n",
        "loss_fn = torch.nn.L1Loss()\n",
        "\n",
        "# Train the linear regression mode on 5 times data.\n",
        "epochs = 10000\n",
        "tensor_x = torch.from_numpy(x)\n",
        "tensor_y = torch.from_numpy(y)\n",
        "for epoch in range(epochs):\n",
        "    y_pred = five_times_model(tensor_x)\n",
        "    loss = loss_fn(y_pred, tensor_y)\n",
        "    five_times_model.zero_grad()\n",
        "    loss.backward()\n",
        "    optimizer.step()\n",
        "\n",
        "torch.save(five_times_model.state_dict(), save_model_dir_multiply_five)\n",
        "print(os.path.exists(save_model_dir_multiply_five)) # verify if the model is saved"
      ]
    },
    {
      "cell_type": "markdown",
      "source": [
        "Data used for prediction on RunInference transforms."
      ],
      "metadata": {
        "id": "BQjs3uDnpAPB"
      },
      "id": "BQjs3uDnpAPB"
    },
    {
      "cell_type": "code",
      "source": [
        "# unkeyed values are used for the prediction on RunInference API.\n",
        "unkeyed_data = numpy.array([20, 40, 60, 90], dtype=numpy.float32).reshape(-1, 1)\n",
        "# keyed values usef for the prediction on RunInference API\n",
        "keyed_data = [(\"first_question\", 105.00),\n",
        "      (\"second_question\", 108.00),\n",
        "      (\"third_question\", 1000.00),\n",
        "      (\"fourth_question\", 1013.00)]"
      ],
      "metadata": {
        "id": "4iKHpXmqo8fZ"
      },
      "id": "4iKHpXmqo8fZ",
      "execution_count": null,
      "outputs": []
    },
    {
      "cell_type": "markdown",
      "source": [
        "# Pytorch RunInference API"
      ],
      "metadata": {
        "id": "1mIwS-s7gpwL"
      },
      "id": "1mIwS-s7gpwL"
    },
    {
      "cell_type": "markdown",
      "id": "2e20efc4-13e8-46e2-9848-c0347deaa5af",
      "metadata": {
        "id": "2e20efc4-13e8-46e2-9848-c0347deaa5af"
      },
      "source": [
        "Define Pytorch ModelHandler that handles `Unkeyed` data."
      ]
    },
    {
      "cell_type": "code",
      "execution_count": null,
      "id": "e488a821-3b70-4284-96f3-ddee4dcb9d71",
      "metadata": {
        "id": "e488a821-3b70-4284-96f3-ddee4dcb9d71"
      },
      "outputs": [],
      "source": [
        "torch_five_times_model_handler = PytorchModelHandlerTensor(\n",
        "    state_dict_path=save_model_dir_multiply_five,\n",
        "    model_class=LinearRegression,\n",
        "    model_params={'input_dim': 1,\n",
        "                  'output_dim': 1}\n",
        "                  )\n",
        "pipeline = beam.Pipeline()\n",
        "\n",
        "with pipeline as p:\n",
        "      (\n",
        "      p \n",
        "      | \"ReadInputData\" >> beam.Create(unkeyed_data)\n",
        "      | \"ConvertNumpyToTensor\" >> beam.Map(torch.Tensor)\n",
        "      | \"RunInferenceTorch\" >> RunInference(torch_five_times_model_handler)\n",
        "      | beam.Map(print)\n",
        "      )"
      ]
    },
    {
      "cell_type": "markdown",
      "source": [
        "Define Pytorch ModelHandler that handles `Keyed` data."
      ],
      "metadata": {
        "id": "9_zpCNW_jEZ6"
      },
      "id": "9_zpCNW_jEZ6"
    },
    {
      "cell_type": "code",
      "source": [
        "pipeline_options = PipelineOptions()\n",
        "pipeline = beam.Pipeline(options=pipeline_options)\n",
        "\n",
        "torch_five_times_model_handler = PytorchModelHandlerTensor(\n",
        "    state_dict_path=save_model_dir_multiply_five,\n",
        "    model_class=LinearRegression,\n",
        "    model_params={'input_dim': 1,\n",
        "                  'output_dim': 1}\n",
        "                  )\n",
        "keyed_torch_five_times_model_handler = KeyedModelHandler(torch_five_times_model_handler)\n",
        "\n",
        "with pipeline as p:\n",
        "  (p\n",
        "    | \"ReadInputData\" >> beam.Create(keyed_data)\n",
        "    | \"ConvertIntToTensor\" >> beam.Map(lambda x: (x[0], torch.Tensor([x[1]])))\n",
        "    | \"RunInferenceTorch\" >> RunInference(keyed_torch_five_times_model_handler)\n",
        "    | beam.Map(print)\n",
        "   )"
      ],
      "metadata": {
        "id": "CYOEnKzVi7P1"
      },
      "id": "CYOEnKzVi7P1",
      "execution_count": null,
      "outputs": []
    },
    {
      "cell_type": "markdown",
      "id": "6695cd22-e0bf-438f-8223-4a93392e6616",
      "metadata": {
        "id": "6695cd22-e0bf-438f-8223-4a93392e6616"
      },
      "source": [
        "## Create the data and the Sklearn model.\n"
      ]
    },
    {
      "cell_type": "code",
      "execution_count": null,
      "id": "c57843e8-f696-4196-ad39-827e34849976",
      "metadata": {
        "id": "c57843e8-f696-4196-ad39-827e34849976"
      },
      "outputs": [],
      "source": [
        "# Input data to train the sklearn model.\n",
        "x = numpy.arange(0, 100, dtype=numpy.float32).reshape(-1, 1)\n",
        "y = (x * 5).reshape(-1, 1)\n",
        "\n",
        "regression = linear_model.LinearRegression()\n",
        "regression.fit(x,y)\n",
        "\n",
        "sklearn_model_filename = 'sklearn_5x_model.pkl'\n",
        "with open(sklearn_model_filename, 'wb') as f:\n",
        "    pickle.dump(regression, f)"
      ]
    },
    {
      "cell_type": "markdown",
      "id": "69008a3d-3d15-4643-828c-b0419b347d01",
      "metadata": {
        "id": "69008a3d-3d15-4643-828c-b0419b347d01"
      },
      "source": [
        "# Scikit-learn RunInference API."
      ]
    },
    {
      "cell_type": "markdown",
      "source": [
        "Define Sklearn ModelHandler that handles `Unkeyed` data."
      ],
      "metadata": {
        "id": "XyxwpEBfnC-b"
      },
      "id": "XyxwpEBfnC-b"
    },
    {
      "cell_type": "code",
      "execution_count": null,
      "id": "50a648a3-794a-4286-ab2b-fc0458db04ca",
      "metadata": {
        "id": "50a648a3-794a-4286-ab2b-fc0458db04ca"
      },
      "outputs": [],
      "source": [
        "sklearn_model_handler = SklearnModelHandlerNumpy(model_uri=sklearn_model_filename,\n",
        "                                                 model_file_type=ModelFileType.PICKLE)\n",
        "\n",
        "pipeline_options = PipelineOptions()\n",
        "pipeline = beam.Pipeline(options=pipeline_options)\n",
        "\n",
        "with pipeline as p:\n",
        "  (\n",
        "      p \n",
        "      | \"ReadInputs\" >> beam.Create(unkeyed_data)\n",
        "      | \"RunInferenceSklearn\" >> RunInference(model_handler=sklearn_model_handler)\n",
        "      | beam.Map(print)\n",
        "  )"
      ]
    },
    {
      "cell_type": "markdown",
      "id": "33e901d6-ed06-4268-8a5f-685d31b5558f",
      "metadata": {
        "id": "33e901d6-ed06-4268-8a5f-685d31b5558f"
      },
      "source": [
        "Define Sklearn ModelHandler that handles `Keyed` data."
      ]
    },
    {
      "cell_type": "code",
      "execution_count": null,
      "id": "c212916d-b517-4589-ad15-a3a1df926fb3",
      "metadata": {
        "id": "c212916d-b517-4589-ad15-a3a1df926fb3"
      },
      "outputs": [],
      "source": [
        "sklearn_model_handler = SklearnModelHandlerNumpy(model_uri=sklearn_model_filename,\n",
        "                                                 model_file_type=ModelFileType.PICKLE)\n",
        "\n",
        "keyed_sklearn_model_handler = KeyedModelHandler(sklearn_model_handler)\n",
        "\n",
        "pipeline_options = PipelineOptions()\n",
        "pipeline = beam.Pipeline(options=pipeline_options)\n",
        "\n",
        "with pipeline as p:\n",
        "  (\n",
        "  p \n",
        "  | \"ReadInputs\" >> beam.Create(keyed_data)\n",
        "  | \"ExtractInputs\" >> beam.Map(lambda x: (x[0], [x[1]]))\n",
        "  | \"RunInferenceSklearn\" >> RunInference(model_handler=keyed_sklearn_model_handler)\n",
        "  | beam.Map(print)\n",
        "  )"
      ]
    }
  ],
  "metadata": {
    "language_info": {
      "name": "python"
    },
    "colab": {
      "name": "RunInference_basic.ipynb",
      "provenance": [],
      "collapsed_sections": [],
      "include_colab_link": true
    },
    "kernelspec": {
      "name": "python3",
      "display_name": "Python 3"
    },
    "gpuClass": "standard"
  },
  "nbformat": 4,
  "nbformat_minor": 5
}