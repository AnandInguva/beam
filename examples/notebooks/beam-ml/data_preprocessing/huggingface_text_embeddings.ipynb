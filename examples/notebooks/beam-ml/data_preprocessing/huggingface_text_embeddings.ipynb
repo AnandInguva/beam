{
  "nbformat": 4,
  "nbformat_minor": 0,
  "metadata": {
    "colab": {
      "provenance": []
    },
    "kernelspec": {
      "name": "python3",
      "display_name": "Python 3"
    },
    "language_info": {
      "name": "python"
    },
  "cells": [
    {
      "cell_type": "code",
      "execution_count": 13,
      "metadata": {
        "id": "UmEFwsNs1OES"
      },
      "outputs": [],
      "source": [
        "# @title ###### Licensed to the Apache Software Foundation (ASF), Version 2.0 (the \"License\")\n",
        "\n",
        "# Licensed to the Apache Software Foundation (ASF) under one\n",
        "# or more contributor license agreements. See the NOTICE file\n",
        "# distributed with this work for additional information\n",
        "# regarding copyright ownership. The ASF licenses this file\n",
        "# to you under the Apache License, Version 2.0 (the\n",
        "# \"License\"); you may not use this file except in compliance\n",
        "# with the License. You may obtain a copy of the License at\n",
        "#\n",
        "#   http://www.apache.org/licenses/LICENSE-2.0\n",
        "#\n",
        "# Unless required by applicable law or agreed to in writing,\n",
        "# software distributed under the License is distributed on an\n",
        "# \"AS IS\" BASIS, WITHOUT WARRANTIES OR CONDITIONS OF ANY\n",
        "# KIND, either express or implied. See the License for the\n",
        "# specific language governing permissions and limitations\n",
        "# under the License"
      ]
    },
    {
      "cell_type": "markdown",
      "source": [
        "# Generate Text Embeddings by using Hugging Face Hub models\n",
        "\n",
        "\n",
        "## Text Embeddings\n",
        "\n",
        "Text embeddings are a way of representing text as numerical vectors. This allows computers to understand and process text data, which is essential for many natural language processing (NLP) tasks.\n",
        "\n",
        "### Uses of text embeddings\n",
        "By converting text into numerical vectors, text embeddings make it possible for computers to process and analyze text data. This enables a wide range of NLP tasks, including:\n",
        "\n",
        "* Semantic search: Finding documents or passages that are relevant to a query, even if the query doesn't use the exact same words as the documents.\n",
        "* Text classification: Categorzing text data into different classes, such as spam or not spam, or positive sentiment or negative sentiment.\n",
        "* Machine translation: Translating text from one language to another while preserving the meaning.\n",
        "* Text summarization: Creating shorter summaries of longer pieces of text.\n",
        "\n",
        "In this notebook, we will use Apache Beam's `MLTransform` to embeddings on the text data.\n",
        "\n",
        "Hugging Face's [`SentenceTransformers`](https://huggingface.co/sentence-transformers) framework uses Python to generate sentence, text, and image embeddings.\n",
        "\n",
        "To generate text embeddings that use Hugging Face models and `MLTransform`, use `SentenceTransformerEmbeddings` to specify the model configuration.\n",
        "\n",
        "To use `SentenceTransformerEmbeddings`, first install the `the sentence-transformers` package."
      ],
      "metadata": {
        "id": "yvVIEhF01ZWq"
      }
    },
    {
      "cell_type": "markdown",
      "source": [
        "# Install dependencies\n",
        " Install Apache Beam and the dependencies needed to work with Hugging Face embeddings."
      ],
      "metadata": {
        "id": "jqYXaBJ821Zs"
      }
    },
    {
      "cell_type": "code",
      "source": [
        "! git clone https://github.com/apache/beam.git\n",
        "! cd beam/sdks/python\n",
        "! pip install beam/sdks/python\n",
        "! pip install sentence-transformers"
      ],
      "metadata": {
        "id": "shzCUrZI1XhF"
      },
      "execution_count": null,
      "outputs": []
    },
    {
      "cell_type": "code",
      "source": [
        "import tempfile\n",
        "import apache_beam as beam\n",
        "from apache_beam.ml.transforms.base import MLTransform\n",
        "from apache_beam.ml.transforms.embeddings.huggingface import SentenceTransformerEmbeddings"
      ],
      "metadata": {
        "id": "jVxSi2jS3M3b"
      },
      "execution_count": 15,
      "outputs": []
    },
    {
      "cell_type": "markdown",
      "source": [
        "## Use MLTransform in write mode\n",
        "\n",
        "In `write` mode, `MLTransform` saves the transforms and their attributes to an artifact location. These transforms are used when you run `MLTransform` in `read` mode.\n",
        "\n",
        "For more information about using `MLTransform`, see [Preprocess data with MLTransform](https://beam.apache.org/documentation/ml/preprocess-data/) in the Apache Beam documentation."
      ],
      "metadata": {
        "id": "kXDM8C7d3nPV"
      }
    },
    {
      "cell_type": "markdown",
      "source": [
        "To generate text embeddings with `MLTransform`, the following pipeline uses the model `sentence-transformers/all-MiniLM-L6-v2` and the text inputs from the Hugging Face blog [Getting Started With Embeddings](https://huggingface.co/blog/getting-started-with-embeddings)."
      ],
      "metadata": {
        "id": "Dbkmu3HP6Kql"
      }
    },
    {
      "cell_type": "code",
      "source": [
        "content = [\n",
        "    {'x': 'How do I get a replacement Medicare card?'},\n",
        "    {'x': 'What is the monthly premium for Medicare Part B?'},\n",
        "    {'x': 'How do I terminate my Medicare Part B (medical insurance)?'},\n",
        "    {'x': 'How do I sign up for Medicare?'},\n",
        "    {'x': 'Can I sign up for Medicare Part B if I am working and have health insurance through an employer?'},\n",
        "    {'x': 'How do I sign up for Medicare Part B if I already have Part A?'},\n",
        "    {'x': 'What are Medicare late enrollment penalties?'},\n",
        "    {'x': 'What is Medicare and who can get it?'},\n",
        "    {'x': 'How can I get help with my Medicare Part A and Part B premiums?'},\n",
        "    {'x': 'What are the different parts of Medicare?'},\n",
        "    {'x': 'Will my Medicare premiums be higher because of my higher income?'},\n",
        "    {'x': 'What is TRICARE ?'},\n",
        "    {'x': \"Should I sign up for Medicare Part B if I have Veterans' Benefits?\"}\n",
        "]\n",
        "\n",
        "\n",
        "# helper function that returns a dict containing only first\n",
        "#10 elements of generated embeddings.\n",
        "def truncate_embeddings(d):\n",
        "  for key in d.keys():\n",
        "    d[key] = d[key][:10]\n",
        "  return d"
      ],
      "metadata": {
        "id": "LCTUs8F73iDg"
      },
      "execution_count": 16,
      "outputs": []
    },
    {
      "cell_type": "code",
      "source": [
        "artifact_location_minilm = tempfile.mkdtemp(prefix='huggingface_')\n",
        "text_embedding_model_name = 'sentence-transformers/all-MiniLM-L6-v2'\n",
        "embedding_transform = SentenceTransformerEmbeddings(\n",
        "        model_name=text_embedding_model_name, columns=['x'])\n",
        "\n",
        "with beam.Pipeline() as pipeline:\n",
        "  data_pcoll = (\n",
        "          pipeline\n",
        "          | \"CreateData\" >> beam.Create(content))\n",
        "  transformed_pcoll = (\n",
        "      data_pcoll\n",
        "      | \"MLTransform\" >> MLTransform(write_artifact_location=artifact_location_minilm).with_transform(embedding_transform))\n",
        "\n",
        "  transformed_pcoll | beam.Map(truncate_embeddings) | 'LogOutput' >> beam.Map(print)\n",
        "\n",
        "  transformed_pcoll | \"PrintEmbeddingShape\" >> beam.Map(lambda x: print(f\"Embedding shape: {len(x['x'])}\"))"
      ],
      "metadata": {
        "colab": {
          "base_uri": "https://localhost:8080/"
        },
        "id": "SF6izkN134sf",
        "outputId": "d77f9f04-ef87-4d90-9b5a-8110cf3ddf66"
      },
      "execution_count": 17,
      "outputs": [
        {
          "output_type": "stream",
          "name": "stdout",
          "text": [
            "{'x': [-0.023889463394880295, 0.05525851249694824, -0.011654896661639214, -0.03341428190469742, -0.012260555289685726, -0.024872763082385063, -0.01266342680901289, 0.025345895439386368, 0.01850851997733116, -0.08350814878940582]}\n",
            "Embedding shape: 10\n",
            "{'x': [-0.01268761046230793, 0.04687413573265076, -0.010502150282263756, -0.020383981987833977, -0.01336114201694727, 0.04232167452573776, 0.016627851873636246, -0.004099288955330849, -0.0026070312596857548, -0.010187783278524876]}\n",
            "Embedding shape: 10\n",
            "{'x': [0.0004943296662531793, 0.11941202729940414, 0.005229473114013672, -0.09273427724838257, 0.007772865705192089, -0.005324989557266235, 0.03450643643736839, -0.05198145657777786, -0.006264965515583754, -0.006110507529228926]}\n",
            "Embedding shape: 10\n",
            "{'x': [-0.029711326584219933, 0.02329839952290058, -0.05704096704721451, -0.01218305341899395, -0.013710316270589828, 0.02979600988328457, 0.0637386366724968, 0.0011010386515408754, -0.04512352868914604, -0.040747467428445816]}\n",
            "Embedding shape: 10\n",
            "{'x': [-0.02562842145562172, 0.070388562977314, -0.017379559576511383, -0.0565667562186718, 0.02857644483447075, 0.052822552621364594, 0.06706249713897705, -0.05261750519275665, -0.054702047258615494, -0.11623040586709976]}\n",
            "Embedding shape: 10\n",
            "{'x': [-0.022656124085187912, 0.021159743890166283, 0.0051048519089818, -0.04649421200156212, 0.009073587134480476, 0.04149482399225235, 0.0542682446539402, -0.02418488636612892, -0.013482789508998394, -0.07596635073423386]}\n",
            "Embedding shape: 10\n",
            "{'x': [-0.0029113641940057278, 0.060791268944740295, -0.009175681509077549, -0.006133317016065121, 0.04049248993396759, 0.036593958735466, 0.002054463606327772, -0.03134453296661377, 0.03180575743317604, -0.02349487692117691]}\n",
            "Embedding shape: 10\n",
            "{'x': [-0.08052560687065125, 0.05988812446594238, -0.048846762627363205, -0.04017612338066101, -0.06334187090396881, 0.041847795248031616, 0.11904510855674744, 0.010651926510035992, -0.03009488806128502, -0.004561173263937235]}\n",
            "Embedding shape: 10\n",
            "{'x': [-0.03438771516084671, 0.07250139862298965, 0.014439866878092289, -0.03669499233365059, 0.01401869673281908, 0.06307005882263184, 0.034682512283325195, -0.014530760236084461, -0.059861864894628525, -0.04538321495056152]}\n",
            "Embedding shape: 10\n",
            "{'x': [-0.005963828414678574, 0.025043698027729988, -0.003182097803801298, -0.025242922827601433, -0.0398230142891407, -0.012771854177117348, 0.04471335560083389, 0.014535337686538696, -0.03821342810988426, -0.0411490835249424]}\n",
            "Embedding shape: 10\n",
            "{'x': [-0.03900795429944992, -0.010609468445181847, -0.007382712326943874, -0.050189726054668427, -0.00251754536293447, -0.041640982031822205, 0.02696942910552025, -0.014800622127950191, -0.01412696298211813, -0.061636775732040405]}\n",
            "Embedding shape: 10\n",
            "{'x': [-0.09598278254270554, -0.06301165372133255, -0.11690578609704971, -0.05907457321882248, -0.05132286250591278, -0.0034391973167657852, 0.018687350675463676, 0.006543711293488741, -0.04905705526471138, -0.031649429351091385]}\n",
            "Embedding shape: 10\n",
            "{'x': [-0.011600406840443611, 0.05651004612445831, 0.016623979434370995, -0.09469003975391388, -0.009865491650998592, 0.07234735041856766, 0.04412448778748512, -0.0411749929189682, -0.04212445020675659, -0.10263106226921082]}\n",
            "Embedding shape: 10\n"
          ]
        }
      ]
    },
    {
      "cell_type": "markdown",
      "source": [
        "Pass additional arguments that are supported by `sentence-transformer` models, such as `convert_to_numpy=False`. These arguments are passed as a `dict` to the `SentenceTransformerEmbeddings` transform by using the `inference_args` parameter.\n",
        "\n",
        "By passing `convert_to_numpy=False`, the output will contain `torch.Tensor`s."
      ],
      "metadata": {
        "id": "1MFom0PW_vRv"
      }
    },
    {
      "cell_type": "code",
      "source": [
        "artifact_location_minilm_with_inference_args = tempfile.mkdtemp(prefix='huggingface_')\n",
        "\n",
        "embedding_transform = SentenceTransformerEmbeddings(\n",
        "        model_name=text_embedding_model_name, columns=['x'],\n",
        "        inference_args={'convert_to_numpy': False}\n",
        "        )\n",
        "\n",
        "with beam.Pipeline() as pipeline:\n",
        "  data_pcoll = (\n",
        "          pipeline\n",
        "          | \"CreateData\" >> beam.Create(content))\n",
        "  transformed_pcoll = (\n",
        "      data_pcoll\n",
        "      | \"MLTransform\" >> MLTransform(write_artifact_location=artifact_location_minilm_with_inference_args).with_transform(embedding_transform))\n",
        "\n",
        "  # The outputs are in the Pytorch tensor type.\n",
        "  transformed_pcoll | 'LogOutput' >> beam.Map(lambda x: print(type(x['x'])))\n",
        "\n",
        "  transformed_pcoll | \"PrintEmbeddingShape\" >> beam.Map(lambda x: print(f\"Embedding shape: {len(x['x'])}\"))\n"
      ],
      "metadata": {
        "id": "xyezKuzY_uLD",
        "colab": {
          "base_uri": "https://localhost:8080/"
        },
        "outputId": "5046e66b-2123-418a-8e40-59de57397956"
      },
      "execution_count": 18,
      "outputs": [
        {
          "output_type": "stream",
          "name": "stdout",
          "text": [
            "<class 'torch.Tensor'>\n",
            "Embedding shape: 384\n",
            "<class 'torch.Tensor'>\n",
            "Embedding shape: 384\n",
            "<class 'torch.Tensor'>\n",
            "Embedding shape: 384\n",
            "<class 'torch.Tensor'>\n",
            "Embedding shape: 384\n",
            "<class 'torch.Tensor'>\n",
            "Embedding shape: 384\n",
            "<class 'torch.Tensor'>\n",
            "Embedding shape: 384\n",
            "<class 'torch.Tensor'>\n",
            "Embedding shape: 384\n",
            "<class 'torch.Tensor'>\n",
            "Embedding shape: 384\n",
            "<class 'torch.Tensor'>\n",
            "Embedding shape: 384\n",
            "<class 'torch.Tensor'>\n",
            "Embedding shape: 384\n",
            "<class 'torch.Tensor'>\n",
            "Embedding shape: 384\n",
            "<class 'torch.Tensor'>\n",
            "Embedding shape: 384\n",
            "<class 'torch.Tensor'>\n",
            "Embedding shape: 384\n"
          ]
        }
      ]
    },
    {
      "cell_type": "markdown",
      "source": [
        "Use the model `sentence-transformers/sentence-t5-large` to generate text embeddings. The model uses only the encoder from a `T5-large model`. The weights are stored in FP16. For more information about the model, see [Sentence-T5: Scalable Sentence Encoders from Pre-trained Text-to-Text Models](https://arxiv.org/abs/2108.08877)."
      ],
      "metadata": {
        "id": "zmQ97UA895W0"
      }
    },
    {
      "cell_type": "code",
      "source": [
        "artifact_location_t5 = tempfile.mkdtemp(prefix='huggingface_t5_')\n",
        "text_embedding_model_name = 'sentence-transformers/sentence-t5-large'\n",
        "embedding_transform = SentenceTransformerEmbeddings(\n",
        "        model_name=text_embedding_model_name, columns=['x'])\n",
        "\n",
        "with beam.Pipeline() as pipeline:\n",
        "  data_pcoll = (\n",
        "          pipeline\n",
        "          | \"CreateData\" >> beam.Create(content))\n",
        "  transformed_pcoll = (\n",
        "      data_pcoll\n",
        "      | \"MLTransform\" >> MLTransform(write_artifact_location=artifact_location_t5).with_transform(embedding_transform))\n",
        "\n",
        "  transformed_pcoll | beam.Map(truncate_embeddings) | 'LogOutput' >> beam.Map(print)\n",
        "\n",
        "  transformed_pcoll | \"PrintEmbeddingShape\" >> beam.Map(lambda x: print(f\"Embedding shape: {len(x['x'])}\"))"
      ],
      "metadata": {
        "id": "sK_b6mcY7-Ly",
        "colab": {
          "base_uri": "https://localhost:8080/",
          "height": 1000,
          "referenced_widgets": [
            "f9889fa808c4465a9aabc7043f1dc0ac",
            "bf0b8e83b4a04fc08c39b5d3b4dea90f",
            "96f74e47419540989bbc1fedee2cd8a7",
            "e4e244b1951a4000be284b3a41530c8c",
            "814e470254014377bd2dbd903d3cee52",
            "12cf891b40f44960b1ea45787497192d",
            "155cf50160074704b22cfaa5b4fd1e0b",
            "674cf5f2b9b9495493b8e19a7dac4f23",
            "78017c64a8594ee9bac7eaf26a1b9973",
            "3b69055a53ae4b358c04493ef243348a",
            "acc5f506189d4758be42ed32233af513",
            "f78c550e9f14432d8d39c740cf697265",
            "60fcfe2e153a4f25b0ebb33b8ec156ee",
            "3173371c28e74940ae8870eef769fc83",
            "adab9f14e6d245d7b879b491d2b1fe11",
            "89561b65a9524332bd4cbce66abbdff9",
            "d96b536f14bf4d1e80720de991482749",
            "0372a62c987447b385de32a435034887",
            "7d650f03c90e4d0f8ab86db203c3b4b3",
            "8418f234caf546b2a63bc507c9caeb48",
            "03d0eeab039c4b968ea3d109bad6717b",
            "8f73ffcfa4f1481692d3c710c4292654",
            "8f5c31ff7e7c4a1c86c3fdaf2547fdd2",
            "cbd01ca8eee24560ac5829497e3b9f77",
            "72a09f6efd3940e8a3995bed28a6b446",
            "3c3445faa0c84cba90be21b128ad885c",
            "8b7fca7df9f14b038eb3af98c79b31d6",
            "9fb3df4808704e7ab6e1b35f696fbad3",
            "0fa31bbe5ebf4633a5c216ac6292919f",
            "8007b624b90b4ba8a441a711b003a5fb",
            "449261dddba549e5b4502c2c6e9c6ca0",
            "209004af3250442aa4f885ef179adf30",
            "77a4c4e916fa4ca5bf93742ac88baa2c",
            "fcdfee26ca414e0896abe1e09092665d",
            "4e63b51964c34af7a2fbfb701bfe6475",
            "7532e6105f99435c9e82908b65bf4d85",
            "454d39f4005141768450c9a6cd65e50e",
            "7645f524e02a4404a07c063ff35c4580",
            "ba27d6c66b9d4078b87269830000517f",
            "258a0267ea5a4a1f8ae1b7475fdc8e3a",
            "1c24e9eb96f2477e805ae11e57c43ba3",
            "654a89df979448d4ab3a4c66c70df443",
            "6bdba605967e49cba064dd0be2ecf251",
            "7ec9c96b252148d5afa4bd58e64adff1",
            "bc08d3474dd14563948fecd88d1b7751",
            "8d9947090c5b442f842413c0b14d34ca",
            "447cf75d47d042afa30b6362398428b4",
            "d8695c23a6d04e9a92aa17a046254678",
            "d5083a0d514f4cd2bb6169d1ce6ee5ec",
            "868937e278c04280a07a72dac6fc779e",
            "58b264c59bda433aabc90d28bad40ea1",
            "cb318579e56d40f58d970d978a62b644",
            "18a93eb40a03437f907613d360648eb0",
            "00dd0049fd2d497e87e0f35de8555246",
            "55f4db0cf14749d589200e7207c76613",
            "fb21d614002d4fcebb6cb08629141017",
            "6ae11ed6d73e4f788aba128c4291236e",
            "6a5c5cbcc2e14d7e9daf53695f59ef4e",
            "c4182556f71740b8a2019df106e639db",
            "ed7600045bc44201ae183bce4fe71df9",
            "16f32a567c6c4dd7a297757fbd524d15",
            "1cfea3945a01455981a46fc0df08886f",
            "d2f32078673945e5a45e0c892e2bb2ec",
            "f7bc0da0d8a9423083c044884c15cb83",
            "573d316ef7ba4906aca8a4db4016df7f",
            "e968c316ed724d5e94aebe364e943a98",
            "ea6ea39ac8bc404cbd1134ea37fa672d",
            "c3a87e74816f446f9176c4e3efba6ba7",
            "9c236f13f55e4c9abf82a030f62e6620",
            "a2ff8207b8ca47df99ce9b03c6ae2959",
            "9851d5a0f28042cfbac86a13ce00feb4",
            "8cc91219b9b64ec3a5f52ad160e71755",
            "f3b162ce33d14707b81120ba696390f9",
            "128059b55a284518ab726c203035409b",
            "ca6a2502c9bf4534b3decd19706f5924",
            "19500b10727042bc8807bf7d94c2e650",
            "20f6dc52604e43edbe790ef880e95c1f",
            "c13225620f6741279a6b0e57b2c43fd6",
            "f1655d8f12dc4734a23f810af28cc95a",
            "3578479ed74e4f1083c339027500c958",
            "c6fa12ae965747cc93df4f80e06eb229",
            "54680614fc3e492fbf13a01bef4b59ea",
            "8be1afdfb36d4117b9fa7e49e6d883a2",
            "e2dd2e4857fd41048d12078371a0bff9",
            "72824a20e0ac4107a62e35818973623d",
            "543c627cf6dc47959495add91c67a58e",
            "7241abdf954c4e8e8f60181e1a728c42",
            "7a1a2221f1274358bea9cc2d205cb01e",
            "a15869bba5d24fc9aff13e2f9910c93b",
            "58152a5e1ad6463ca60a20347b086ff9",
            "bc9acab1a1584e488e5a089b4b68ff05",
            "b656a8e32e254fcb843d45ca9a368688",
            "7339b992665845a8895a8c3d12c81ecb",
            "31ab0f55573547d6ada33abe4038d3eb",
            "05bf00f13650440ea76d6f356573231d",
            "55b592677ce04bc1934ee03fc16d9f88",
            "c1a63873cd75428d9498bc218088c627",
            "20e3dbf50eee4b1f961f7b9276c45ec1",
            "a90fbfe3394e4fd484d76aa1ec4c105a",
            "05128ccad87c4f83a78d39baea6bcf1a",
            "51735662108c46f0a3d4819fdf2f7492",
            "198287c64cc24b5d89985a77718cd611",
            "0bb4e13219274ffea1a540a57664f636",
            "460b492a819d4b3a8d3597df610bf723",
            "d8553ffcaf2c40acae309c2c82fb6a57",
            "306e1d959f2840cfab75341115869dbb",
            "aea96cc8d5914a67bca627033534c4eb",
            "4c9632c4b7ef4d55887f67d28ac2f806",
            "b8d0508b707b494b921dfd829b6fc607",
            "7eeba0c352ad455c9e56cc4ca8634181",
            "c58a47e9b11f45fc87faafd2e66534e5",
            "c9222cc458464b7cbe746dca2472ad82",
            "553bd8686cc44548a5f8dec4ee96526e",
            "be00007dfba94a998b536195f40491f8",
            "9866b0434c3045bfbe7244e393726b5f",
            "65a773421cdb4ad2bfb9bc9177fd4d8f",
            "efec41a2fd974bae926100218667e8aa",
            "b1868264a7a444659ae68a2a5a25100f",
            "0166a8426b9442139ff04c288fcb9fee",
            "a1ab30b755eb4f108e5fbc36c17ec82f",
            "d8b62310ac6643df9b82e8ee01ec7c76",
            "e6c2f1a565b64a4c918719cb6bc3f785",
            "c6136810d3b54545b322e5f4ce04a924",
            "0023c1839558416b8a021488db85373d",
            "d2740117f07c4dc78a78732ff3ee00c2",
            "5e6779adc28f4b6aaef6061fdb609964",
            "c5391d000a444fcf93036464c96c0192",
            "a2027a27970c470090e179a8d40d9078",
            "ded301b596984be9bd4b277b443b700a",
            "2e536c5dbbb24fdc80472b0d0ba000be",
            "2a64a1701aa746c3839e94b5200bb935",
            "e0c1d5ce00e442edaca95c54fea0ce12",
            "dc4e572257eb46ccbbb5ed042dc4d77f",
            "85767f8b2f484b8b8f8d08da6ace4140",
            "5b4f74522e7c4145be4553e98792acdb",
            "e116e2ea06964913b43433944fe757ac",
            "26c80631f9e943a29e20aab6ad25c64e",
            "512df60e8013485d99ee096dfa6c2f85",
            "b52af921e3664ce58b364fd789059126",
            "85290dc53efd4a6e96a50c485ff50cdc",
            "c1666d03392442979381e523526042dc",
            "dd88888297464ed184669fc31933c377",
            "7e2f64aaca064a63b09b2924521e9b84",
            "4f6d80ac7ac0460dba74406f2c4e9c00",
            "dcb4367913854a479ceb7fcc3d3b1176",
            "284c0f52855843fb8724cb1e7242c855",
            "1dc56a39e84244bf8187cea06f3c9b33",
            "80d23216a254429cb89bac8e4b63b042",
            "3ebefeb86aa04bfc85443514d7050620",
            "7eb963964d4d482ab5e1dde5b1772198",
            "4512e05bef9a4afcad87e0898e42ac14",
            "563abdf6d7a7429d8d8bb1fabda81f65",
            "a9eb6a3438a94ef9ba2ff52736a529d0",
            "ba3139a5616b4a139a8184c3327fa839"
          ]
        },
        "outputId": "b128cc2e-6ccd-4dc3-d6e1-5957d3426faf"
      },
      "execution_count": 19,
      "outputs": [
        {
          "output_type": "stream",
          "name": "stderr",
          "text": [
            "/usr/local/lib/python3.10/dist-packages/huggingface_hub/utils/_token.py:72: UserWarning: \n",
            "The secret `HF_TOKEN` does not exist in your Colab secrets.\n",
            "To authenticate with the Hugging Face Hub, create a token in your settings tab (https://huggingface.co/settings/tokens), set it as secret in your Google Colab and restart your session.\n",
            "You will be able to reuse this secret in all of your notebooks.\n",
            "Please note that authentication is recommended but still optional to access public models or datasets.\n",
            "  warnings.warn(\n"
          ]
        },
        {
          "output_type": "display_data",
          "data": {
            "text/plain": [
              ".gitattributes:   0%|          | 0.00/1.18k [00:00<?, ?B/s]"
            ],
            "application/vnd.jupyter.widget-view+json": {
              "version_major": 2,
              "version_minor": 0,
              "model_id": "f9889fa808c4465a9aabc7043f1dc0ac"
            }
          },
          "metadata": {}
        },
        {
          "output_type": "display_data",
          "data": {
            "text/plain": [
              "1_Pooling/config.json:   0%|          | 0.00/190 [00:00<?, ?B/s]"
            ],
            "application/vnd.jupyter.widget-view+json": {
              "version_major": 2,
              "version_minor": 0,
              "model_id": "f78c550e9f14432d8d39c740cf697265"
            }
          },
          "metadata": {}
        },
        {
          "output_type": "display_data",
          "data": {
            "text/plain": [
              "2_Dense/config.json:   0%|          | 0.00/116 [00:00<?, ?B/s]"
            ],
            "application/vnd.jupyter.widget-view+json": {
              "version_major": 2,
              "version_minor": 0,
              "model_id": "8f5c31ff7e7c4a1c86c3fdaf2547fdd2"
            }
          },
          "metadata": {}
        },
        {
          "output_type": "display_data",
          "data": {
            "text/plain": [
              "pytorch_model.bin:   0%|          | 0.00/3.15M [00:00<?, ?B/s]"
            ],
            "application/vnd.jupyter.widget-view+json": {
              "version_major": 2,
              "version_minor": 0,
              "model_id": "fcdfee26ca414e0896abe1e09092665d"
            }
          },
          "metadata": {}
        },
        {
          "output_type": "display_data",
          "data": {
            "text/plain": [
              "README.md:   0%|          | 0.00/2.02k [00:00<?, ?B/s]"
            ],
            "application/vnd.jupyter.widget-view+json": {
              "version_major": 2,
              "version_minor": 0,
              "model_id": "bc08d3474dd14563948fecd88d1b7751"
            }
          },
          "metadata": {}
        },
        {
          "output_type": "display_data",
          "data": {
            "text/plain": [
              "config.json:   0%|          | 0.00/1.39k [00:00<?, ?B/s]"
            ],
            "application/vnd.jupyter.widget-view+json": {
              "version_major": 2,
              "version_minor": 0,
              "model_id": "fb21d614002d4fcebb6cb08629141017"
            }
          },
          "metadata": {}
        },
        {
          "output_type": "display_data",
          "data": {
            "text/plain": [
              "config_sentence_transformers.json:   0%|          | 0.00/122 [00:00<?, ?B/s]"
            ],
            "application/vnd.jupyter.widget-view+json": {
              "version_major": 2,
              "version_minor": 0,
              "model_id": "ea6ea39ac8bc404cbd1134ea37fa672d"
            }
          },
          "metadata": {}
        },
        {
          "output_type": "display_data",
          "data": {
            "text/plain": [
              "pytorch_model.bin:   0%|          | 0.00/670M [00:00<?, ?B/s]"
            ],
            "application/vnd.jupyter.widget-view+json": {
              "version_major": 2,
              "version_minor": 0,
              "model_id": "c13225620f6741279a6b0e57b2c43fd6"
            }
          },
          "metadata": {}
        },
        {
          "output_type": "display_data",
          "data": {
            "text/plain": [
              "sentence_bert_config.json:   0%|          | 0.00/53.0 [00:00<?, ?B/s]"
            ],
            "application/vnd.jupyter.widget-view+json": {
              "version_major": 2,
              "version_minor": 0,
              "model_id": "a15869bba5d24fc9aff13e2f9910c93b"
            }
          },
          "metadata": {}
        },
        {
          "output_type": "display_data",
          "data": {
            "text/plain": [
              "special_tokens_map.json:   0%|          | 0.00/1.79k [00:00<?, ?B/s]"
            ],
            "application/vnd.jupyter.widget-view+json": {
              "version_major": 2,
              "version_minor": 0,
              "model_id": "05128ccad87c4f83a78d39baea6bcf1a"
            }
          },
          "metadata": {}
        },
        {
          "output_type": "display_data",
          "data": {
            "text/plain": [
              "spiece.model:   0%|          | 0.00/792k [00:00<?, ?B/s]"
            ],
            "application/vnd.jupyter.widget-view+json": {
              "version_major": 2,
              "version_minor": 0,
              "model_id": "c58a47e9b11f45fc87faafd2e66534e5"
            }
          },
          "metadata": {}
        },
        {
          "output_type": "display_data",
          "data": {
            "text/plain": [
              "tokenizer.json:   0%|          | 0.00/1.39M [00:00<?, ?B/s]"
            ],
            "application/vnd.jupyter.widget-view+json": {
              "version_major": 2,
              "version_minor": 0,
              "model_id": "e6c2f1a565b64a4c918719cb6bc3f785"
            }
          },
          "metadata": {}
        },
        {
          "output_type": "display_data",
          "data": {
            "text/plain": [
              "tokenizer_config.json:   0%|          | 0.00/1.92k [00:00<?, ?B/s]"
            ],
            "application/vnd.jupyter.widget-view+json": {
              "version_major": 2,
              "version_minor": 0,
              "model_id": "dc4e572257eb46ccbbb5ed042dc4d77f"
            }
          },
          "metadata": {}
        },
        {
          "output_type": "display_data",
          "data": {
            "text/plain": [
              "modules.json:   0%|          | 0.00/461 [00:00<?, ?B/s]"
            ],
            "application/vnd.jupyter.widget-view+json": {
              "version_major": 2,
              "version_minor": 0,
              "model_id": "4f6d80ac7ac0460dba74406f2c4e9c00"
            }
          },
          "metadata": {}
        },
        {
          "output_type": "stream",
          "name": "stdout",
          "text": [
            "{'x': [-0.0317193828523159, -0.005265399813652039, -0.012499183416366577, 0.00018130357784684747, -0.005592408124357462, 0.06207558885216713, -0.01656288281083107, 0.0167048592120409, -0.01239298190921545, 0.03041897714138031]}\n",
            "Embedding shape: 10\n",
            "{'x': [-0.015295305289328098, 0.005405726842582226, -0.015631258487701416, 0.022797023877501488, -0.027843449264764786, 0.03968179598450661, -0.004387892782688141, 0.022909151390194893, 0.01015392318367958, 0.04723235219717026]}\n",
            "Embedding shape: 10\n",
            "{'x': [-0.03450256213545799, -0.002632762538269162, -0.022460950538516045, -0.011689935810863972, -0.027329981327056885, 0.07293087989091873, -0.03069353476166725, 0.05429817736148834, -0.01308195199817419, 0.017668722197413445]}\n",
            "Embedding shape: 10\n",
            "{'x': [-0.02869587577879429, -0.0002648509689606726, -0.007186499424278736, -0.0003750955802388489, 0.012458174489438534, 0.06721009314060211, -0.013404129073023796, 0.03204648941755295, -0.021021844819188118, 0.04968355968594551]}\n",
            "Embedding shape: 10\n",
            "{'x': [-0.03241290897130966, 0.006845517549663782, 0.02001815102994442, -0.0057969288900494576, 0.008191823959350586, 0.08160955458879471, -0.009215254336595535, 0.023534387350082397, -0.02034241147339344, 0.0357462577521801]}\n",
            "Embedding shape: 10\n",
            "{'x': [-0.04592451825737953, -0.0025395643897354603, -0.01178023498505354, 0.011568977497518063, -0.0029014083556830883, 0.06971456110477448, -0.021167151629924774, 0.015902182087302208, -0.015007994137704372, 0.026213033124804497]}\n",
            "Embedding shape: 10\n",
            "{'x': [0.005221465136855841, -0.002127869985997677, -0.002369001042097807, -0.019337018951773643, 0.023243796080350876, 0.05599674955010414, -0.022721167653799057, 0.024813007563352585, -0.010685156099498272, 0.03624529018998146]}\n",
            "Embedding shape: 10\n",
            "{'x': [-0.035339221358299255, 0.010706206783652306, -0.001701260800473392, -0.00862252525985241, 0.006445988081395626, 0.08198338001966476, -0.022678885608911514, 0.01434261817485094, -0.008092232048511505, 0.03345781937241554]}\n",
            "Embedding shape: 10\n",
            "{'x': [-0.030748076736927032, 0.009340512566268444, -0.013637945055961609, 0.011183148249983788, -0.013879665173590183, 0.046350326389074326, -0.024090109393000603, 0.02885228954255581, -0.01699884608387947, 0.01672385260462761]}\n",
            "Embedding shape: 10\n",
            "{'x': [-0.040792081505060196, -0.00872269831597805, -0.015838179737329483, -0.03141209855675697, -7.104632823029533e-05, 0.08301416039466858, -0.034691162407398224, 0.0026397297624498606, 0.009255227632820606, 0.05415954813361168]}\n",
            "Embedding shape: 10\n",
            "{'x': [-0.02156883291900158, 0.003969342447817326, -0.030446071177721024, 0.008231461979448795, -0.01271845493465662, 0.03793857619166374, -0.013524272479116917, -0.0385628417134285, -0.0058258213102817535, 0.03505263477563858]}\n",
            "Embedding shape: 10\n",
            "{'x': [-0.027544165030121803, -0.01773364469408989, -0.013286487199366093, -0.008328652940690517, -0.011047529056668282, 0.05237515643239021, -0.016948163509368896, 0.02806701697409153, -0.0018120920285582542, 0.027241172268986702]}\n",
            "Embedding shape: 10\n",
            "{'x': [-0.03464886546134949, -0.003521248232573271, -0.010239562019705772, -0.018618224188685417, 0.004094886127859354, 0.062059685587882996, -0.013881963677704334, -0.0008639032603241503, -0.029874088242650032, 0.033531222492456436]}\n",
            "Embedding shape: 10\n"
          ]
        }
      ]
    },
    {
      "cell_type": "markdown",
      "source": [
        "## Use MLTransform in read mode\n",
        "\n",
        "In `read` mode, `MLTransform` uses the artifacts generated during `write` mode. In this case, the transform and its attributes are loaded from the saved artifacts. You don't need to specify the artifacts again during `read` mode.\n",
        "\n",
        "In this way, `MLTransform` provides consistent preprocessing steps for training and inference workloads."
      ],
      "metadata": {
        "id": "aPIQzCoF_EBj"
      }
    },
    {
      "cell_type": "code",
      "source": [
        "test_content = [\n",
        "    {\n",
        "        'x': 'This is a test sentence'\n",
        "    },\n",
        "    {\n",
        "        'x': 'The park is full of dogs'\n",
        "    },\n",
        "    {\n",
        "        'x': \"Should I sign up for Medicare Part B if I have Veterans' Benefits?\"\n",
        "    }\n",
        "]\n",
        "\n",
        "# Uses the T5 model to generate text embeddings\n",
        "with beam.Pipeline() as pipeline:\n",
        "  data_pcoll = (\n",
        "          pipeline\n",
        "          | \"CreateData\" >> beam.Create(test_content))\n",
        "  transformed_pcoll = (\n",
        "      data_pcoll\n",
        "      | \"MLTransform\" >> MLTransform(read_artifact_location=artifact_location_t5))\n",
        "\n",
        "  transformed_pcoll | beam.Map(truncate_embeddings) | 'LogOutput' >> beam.Map(print)\n"
      ],
      "metadata": {
        "colab": {
          "base_uri": "https://localhost:8080/"
        },
        "id": "RCqYeUd3_F3C",
        "outputId": "ae560a47-cfed-4882-df1f-d24115904f11"
      },
      "execution_count": 21,
      "outputs": [
        {
          "output_type": "stream",
          "name": "stdout",
          "text": [
            "{'x': [0.00036313451710157096, -0.03929319977760315, -0.03574873134493828, 0.05015222355723381, 0.04295048117637634, 0.04800170287489891, 0.006883862894028425, -0.02567591704428196, -0.048067063093185425, 0.036534328013658524]}\n",
            "{'x': [-0.053793832659721375, 0.006730600260198116, -0.025130020454525948, 0.04363932088017464, 0.03323192894458771, 0.008803879842162132, -0.015412433072924614, 0.008926985785365105, -0.061175212264060974, 0.04573329910635948]}\n",
            "{'x': [-0.03464885801076889, -0.003521254053339362, -0.010239563882350922, -0.018618224188685417, 0.004094892647117376, 0.062059689313173294, -0.013881963677704334, -0.000863900815602392, -0.029874078929424286, 0.03353121876716614]}\n"
          ]
        }
      ]
    }
  ]
}
